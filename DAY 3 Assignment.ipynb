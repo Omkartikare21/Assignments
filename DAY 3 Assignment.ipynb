{
 "cells": [
  {
   "cell_type": "code",
   "execution_count": 1,
   "metadata": {},
   "outputs": [
    {
     "name": "stdout",
     "output_type": "stream",
     "text": [
      "enter your nameomkar\n",
      "enter your roll no. 25\n",
      "enter the marks of 1st subject: 55\n",
      "enter the marks of 2nd subject: 34\n",
      "enter the marks of 3rd subject: 58\n",
      "enter the marks of 4th subject: 75\n",
      "enter the marks of 5th subject: 65\n",
      "287\n",
      "name: omkar rollno: 25 57.4 second class\n"
     ]
    }
   ],
   "source": [
    "#name of the student\n",
    "na = input('enter your name')\n",
    "#roll no of the student\n",
    "rn = input('enter your roll no. ')\n",
    "# asking the marks\n",
    "s1 = eval(input('enter the marks of 1st subject: '))\n",
    "s2 = eval(input('enter the marks of 2nd subject: '))\n",
    "s3 = eval(input('enter the marks of 3rd subject: '))\n",
    "s4 = eval(input('enter the marks of 4th subject: '))\n",
    "s5 = eval(input('enter the marks of 5th subject: '))\n",
    "#total marks\n",
    "t = s1 + s2 + s3 + s4 + s5\n",
    "print(t)\n",
    "#calculating the avg\n",
    "avg = t/5\n",
    "if (avg >= 32) and (avg<=49): #if the number is between 32 and 49 then it will print pass.\n",
    "    print('name:', na, 'rollno:', rn, avg, 'pass')\n",
    "elif ((avg >=50) and (avg <=59)):\n",
    "    print('name:', na, 'rollno:', rn, avg, 'second class')\n",
    "elif ((avg >=60) and (avg <=74)):\n",
    "    print('name:', na, 'rollno:', rn, avg,'first class')\n",
    "elif avg >=75:\n",
    "    print('name:', na, 'rollno:', rn, avg, 'distinction')\n",
    "else:\n",
    "    print('name:', na, 'rollno:', rn, avg, 'fail')\n",
    "    "
   ]
  },
  {
   "cell_type": "code",
   "execution_count": 18,
   "metadata": {},
   "outputs": [
    {
     "name": "stdout",
     "output_type": "stream",
     "text": [
      "Enter a number: 8\n",
      "8 is not a prime number\n"
     ]
    }
   ],
   "source": [
    "#asking user for an input\n",
    "num = int(input(\"Enter a number: \"))\n",
    "#prime number is greater then 1.\n",
    "if num > 1:\n",
    "   for i in range(2,num):\n",
    "       if (num % i) == 0:  #checking the condition\n",
    "           print(num,\"is not a prime number\")\n",
    "           break\n",
    "   else:\n",
    "       print(num,\"is a prime number\")\n",
    "# if input number is less than or equal to 1, it is not prime\n",
    "else:\n",
    "   print(num,\"is not a prime number\")"
   ]
  },
  {
   "cell_type": "code",
   "execution_count": 29,
   "metadata": {},
   "outputs": [
    {
     "name": "stdout",
     "output_type": "stream",
     "text": [
      "1 2 3 4 5 6 7 8 9 10  \n",
      "2 4 6 8 10 12 14 16 18 20  \n",
      "3 6 9 12 15 18 21 24 27 30  \n",
      "4 8 12 16 20 24 28 32 36 40  \n",
      "5 10 15 20 25 30 35 40 45 50  \n",
      "6 12 18 24 30 36 42 48 54 60  \n",
      "7 14 21 28 35 42 49 56 63 70  \n",
      "8 16 24 32 40 48 56 64 72 80  \n",
      "9 18 27 36 45 54 63 72 81 90  \n",
      "10 20 30 40 50 60 70 80 90 100  \n"
     ]
    }
   ],
   "source": [
    "for i in range(1, 11): \n",
    "    for j in range(1, 11):\n",
    "        print(i * j, end=' ')\n",
    "    else:\n",
    "        print(' ')"
   ]
  },
  {
   "cell_type": "code",
   "execution_count": 39,
   "metadata": {},
   "outputs": [
    {
     "name": "stdout",
     "output_type": "stream",
     "text": [
      "enter the no. 6\n",
      "it is not a prime no.\n"
     ]
    }
   ],
   "source": [
    "#taking input from user\n",
    "x = int(input('enter the no. '))\n",
    "#to check the count\n",
    "count = 0 \n",
    "i = 2\n",
    "while(i <= x//2):\n",
    "    if(x % i == 0):\n",
    "        count = count + 1\n",
    "        break\n",
    "# i is incremented by 1\n",
    "    i = i + 1\n",
    "\n",
    "if (count == 0 and x != 1):\n",
    "    print('it is a prime no.')\n",
    "else:\n",
    "    print('it is not a prime no.')\n",
    "    \n"
   ]
  },
  {
   "cell_type": "code",
   "execution_count": null,
   "metadata": {},
   "outputs": [],
   "source": []
  }
 ],
 "metadata": {
  "kernelspec": {
   "display_name": "Python 3",
   "language": "python",
   "name": "python3"
  },
  "language_info": {
   "codemirror_mode": {
    "name": "ipython",
    "version": 3
   },
   "file_extension": ".py",
   "mimetype": "text/x-python",
   "name": "python",
   "nbconvert_exporter": "python",
   "pygments_lexer": "ipython3",
   "version": "3.9.1"
  }
 },
 "nbformat": 4,
 "nbformat_minor": 4
}
