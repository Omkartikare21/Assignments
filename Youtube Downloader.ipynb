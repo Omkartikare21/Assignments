{
 "cells": [
  {
   "cell_type": "code",
   "execution_count": 2,
   "metadata": {},
   "outputs": [
    {
     "name": "stdout",
     "output_type": "stream",
     "text": [
      "Collecting pytube\n",
      "  Using cached pytube-10.0.0-py3-none-any.whl (40 kB)\n",
      "Collecting typing-extensions\n",
      "  Using cached typing_extensions-3.7.4.3-py3-none-any.whl (22 kB)\n",
      "Installing collected packages: typing-extensions, pytube\n",
      "Successfully installed pytube-10.0.0 typing-extensions-3.7.4.3\n"
     ]
    },
    {
     "name": "stderr",
     "output_type": "stream",
     "text": [
      "WARNING: You are using pip version 20.2.3; however, version 20.3.3 is available.\n",
      "You should consider upgrading via the 'c:\\users\\omkar\\appdata\\local\\programs\\python\\python39\\python.exe -m pip install --upgrade pip' command.\n"
     ]
    }
   ],
   "source": [
    "!pip install pytube"
   ]
  },
  {
   "cell_type": "code",
   "execution_count": 3,
   "metadata": {},
   "outputs": [
    {
     "name": "stdout",
     "output_type": "stream",
     "text": [
      "https://youtu.be/I_MG6fklovc\n"
     ]
    }
   ],
   "source": [
    "from pytube import YouTube\n",
    "\n",
    "from tkinter import *\n",
    "\n",
    "root = Tk()\n",
    "\n",
    "root.geometry('600x400')\n",
    "root.title('Youtube Video Downloader')\n",
    "\n",
    "def Youtube():\n",
    "    a = var.get()\n",
    "    ytvideo = YouTube(a).streams.filter(file_extension='mp4').order_by('resolution').desc().first()\n",
    "    ytvideo.download(r\"G:\\test\")\n",
    "    #r -> it takes 'raw strings'\n",
    "    print(a)\n",
    "\n",
    "l1 = Label(root, text = 'Youtube Video \\n Downloader', bg='red', fg='white', font = ('bold', 20))\n",
    "l1.place(x=200, y=20)\n",
    "\n",
    "var = StringVar()\n",
    "e1 = Entry(root,textvariable = var, width = 60 )\n",
    "e1.place(x=110, y=100)\n",
    "\n",
    "b1 = Button(root,text = 'Download',  command = Youtube, width= 10, bg='green', fg='white')\n",
    "b1.place(x=120, y=140)\n",
    "root.mainloop()"
   ]
  },
  {
   "cell_type": "code",
   "execution_count": null,
   "metadata": {},
   "outputs": [],
   "source": []
  }
 ],
 "metadata": {
  "kernelspec": {
   "display_name": "Python 3",
   "language": "python",
   "name": "python3"
  },
  "language_info": {
   "codemirror_mode": {
    "name": "ipython",
    "version": 3
   },
   "file_extension": ".py",
   "mimetype": "text/x-python",
   "name": "python",
   "nbconvert_exporter": "python",
   "pygments_lexer": "ipython3",
   "version": "3.9.1"
  }
 },
 "nbformat": 4,
 "nbformat_minor": 4
}
