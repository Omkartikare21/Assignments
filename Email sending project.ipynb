{
 "cells": [
  {
   "cell_type": "code",
   "execution_count": 3,
   "metadata": {},
   "outputs": [
    {
     "name": "stdout",
     "output_type": "stream",
     "text": [
      "Collecting emails\n",
      "  Using cached emails-0.6-py2.py3-none-any.whl (56 kB)\n",
      "Collecting cssutils\n",
      "  Downloading cssutils-1.0.2-py3-none-any.whl (406 kB)\n",
      "Collecting premailer\n",
      "  Using cached premailer-3.7.0-py2.py3-none-any.whl (18 kB)\n",
      "Requirement already satisfied: requests in c:\\users\\omkar\\appdata\\local\\programs\\python\\python39\\lib\\site-packages (from emails) (2.25.1)\n",
      "Collecting lxml\n",
      "  Downloading lxml-4.6.2-cp39-cp39-win_amd64.whl (3.5 MB)\n",
      "Requirement already satisfied: python-dateutil in c:\\users\\omkar\\appdata\\local\\programs\\python\\python39\\lib\\site-packages (from emails) (2.8.1)\n",
      "Requirement already satisfied: chardet in c:\\users\\omkar\\appdata\\local\\programs\\python\\python39\\lib\\site-packages (from emails) (4.0.0)\n",
      "Collecting cssselect\n",
      "  Downloading cssselect-1.1.0-py2.py3-none-any.whl (16 kB)\n",
      "Collecting cachetools\n",
      "  Downloading cachetools-4.2.0-py3-none-any.whl (12 kB)\n",
      "Requirement already satisfied: idna<3,>=2.5 in c:\\users\\omkar\\appdata\\local\\programs\\python\\python39\\lib\\site-packages (from requests->emails) (2.10)\n",
      "Requirement already satisfied: certifi>=2017.4.17 in c:\\users\\omkar\\appdata\\local\\programs\\python\\python39\\lib\\site-packages (from requests->emails) (2020.12.5)\n",
      "Requirement already satisfied: urllib3<1.27,>=1.21.1 in c:\\users\\omkar\\appdata\\local\\programs\\python\\python39\\lib\\site-packages (from requests->emails) (1.26.2)\n",
      "Requirement already satisfied: six>=1.5 in c:\\users\\omkar\\appdata\\local\\programs\\python\\python39\\lib\\site-packages (from python-dateutil->emails) (1.15.0)\n",
      "Installing collected packages: cssutils, cssselect, lxml, cachetools, premailer, emails\n",
      "Successfully installed cachetools-4.2.0 cssselect-1.1.0 cssutils-1.0.2 emails-0.6 lxml-4.6.2 premailer-3.7.0\n"
     ]
    },
    {
     "name": "stderr",
     "output_type": "stream",
     "text": [
      "WARNING: You are using pip version 20.2.3; however, version 20.3.3 is available.\n",
      "You should consider upgrading via the 'c:\\users\\omkar\\appdata\\local\\programs\\python\\python39\\python.exe -m pip install --upgrade pip' command.\n"
     ]
    }
   ],
   "source": [
    "!pip install emails"
   ]
  },
  {
   "cell_type": "code",
   "execution_count": 2,
   "metadata": {},
   "outputs": [],
   "source": [
    "import emails"
   ]
  },
  {
   "cell_type": "code",
   "execution_count": 3,
   "metadata": {},
   "outputs": [],
   "source": [
    "html_text = '''<p><span style=\"font-family: Courier New, courier;\"><span style=\"background-color: rgb(247, 218, 100);\">HEY Jack,</span>&nbsp;</span></p>\n",
    "<p><span style=\"font-family: Courier New, courier;\"><br></span></p>\n",
    "<p><span style=\"font-family: Courier New, courier;\">How are you this is Om FROM india,&nbsp;</span></p>\n",
    "<p><span style=\"font-family: Courier New, courier;\">Cheif Jack at LA !!</span></p>\n",
    "<p><span style=\"font-family: Courier New, courier;\">Loved doing this project, hope you like it&nbsp;</span></p>\n",
    "<p><span style=\"font-family: Courier New, courier;\"><br></span></p>\n",
    "<p><span style=\"font-family: Courier New, courier;\">Regards,&nbsp;</span></p>\n",
    "<p><strong><span style=\"font-family: Courier New, courier;\">Cheif Jack,</span></strong></p>\n",
    "<p><span style=\"font-family: Courier New, courier;\"><strong>Omkar</strong></span></p>'''\n",
    "\n",
    "\n",
    "message = emails.html(html=html_text,\n",
    "                          subject=\"MAIL SENT FROM PYTHON SCRIPT\",\n",
    "                          mail_from=('JAck LA', 'jack@xyz.com'))"
   ]
  },
  {
   "cell_type": "code",
   "execution_count": 4,
   "metadata": {},
   "outputs": [],
   "source": [
    "mail_via_python = message.send(to='kojawig640@hafutv.com', \n",
    "                               smtp={'host': 'smtp.gmail.com', \n",
    "                                     'timeout': 5,\n",
    "                                    'port':587,\n",
    "                                    'user':'omkartikare55@gmail.com',\n",
    "                                    'password':'------',\n",
    "                                    'tls':True})"
   ]
  },
  {
   "cell_type": "code",
   "execution_count": 5,
   "metadata": {},
   "outputs": [
    {
     "data": {
      "text/plain": [
       "<emails.backend.SMTPResponse status_code=250 status_text=b'2.0.0 OK  1608373401 n19sm8742637pgv.39 - gsmtp'>"
      ]
     },
     "execution_count": 5,
     "metadata": {},
     "output_type": "execute_result"
    }
   ],
   "source": [
    "mail_via_python "
   ]
  },
  {
   "cell_type": "code",
   "execution_count": 6,
   "metadata": {},
   "outputs": [],
   "source": [
    "def sendMail(email, name):\n",
    "    \n",
    "    html_text = '''<p><span style=\"font-family: Courier New, courier;\"><span style=\"background-color: rgb(247, 218, 100);\">HEY Jack,'''+ name+'''</span>&nbsp;</span></p>\n",
    "                <p><span style=\"font-family: Courier New, courier;\"><br></span></p>\n",
    "                <p><span style=\"font-family: Courier New, courier;\">How are you this is OMKAR FROM INDIA,&nbsp;</span></p>\n",
    "                <p><span style=\"font-family: Courier New, courier;\">Cheif Jack at LA !!</span></p>\n",
    "                <p><span style=\"font-family: Courier New, courier;\">Loved doing the project, hope you like it &nbsp;</span></p>\n",
    "                <p><span style=\"font-family: Courier New, courier;\"><br></span></p>\n",
    "                <p><span style=\"font-family: Courier New, courier;\">Regards,&nbsp;</span></p>\n",
    "                <p><strong><span style=\"font-family: Courier New, courier;\">Cheif Jack,</span></strong></p>\n",
    "                <p><span style=\"font-family: Courier New, courier;\"><strong>Omkar</strong></span></p>'''\n",
    "\n",
    "    subject = \"Hey Jack \"+ name + \", you have an EMAIL FROM India\"\n",
    "    message = emails.html(html=html_text,\n",
    "                          subject=subject,\n",
    "                          mail_from=('Jack LA', 'jack@xyz.com'))\n",
    "\n",
    "    \n",
    "    mail_via_python = message.send(to=email, \n",
    "                               smtp={'host': 'smtp.gmail.com', \n",
    "                                     'timeout': 5,\n",
    "                                    'port':587,\n",
    "                                    'user':'omkartikare55@gmail.com',\n",
    "                                    'password':'------',\n",
    "                                    'tls':True})\n",
    "    return mail_via_python.status_code"
   ]
  },
  {
   "cell_type": "code",
   "execution_count": 7,
   "metadata": {},
   "outputs": [
    {
     "data": {
      "text/plain": [
       "250"
      ]
     },
     "execution_count": 7,
     "metadata": {},
     "output_type": "execute_result"
    }
   ],
   "source": [
    "sendMail(\"kojawig640@hafutv.com\",\"Omkar\")"
   ]
  },
  {
   "cell_type": "code",
   "execution_count": null,
   "metadata": {},
   "outputs": [],
   "source": []
  }
 ],
 "metadata": {
  "kernelspec": {
   "display_name": "Python 3",
   "language": "python",
   "name": "python3"
  },
  "language_info": {
   "codemirror_mode": {
    "name": "ipython",
    "version": 3
   },
   "file_extension": ".py",
   "mimetype": "text/x-python",
   "name": "python",
   "nbconvert_exporter": "python",
   "pygments_lexer": "ipython3",
   "version": "3.9.1"
  }
 },
 "nbformat": 4,
 "nbformat_minor": 4
}
